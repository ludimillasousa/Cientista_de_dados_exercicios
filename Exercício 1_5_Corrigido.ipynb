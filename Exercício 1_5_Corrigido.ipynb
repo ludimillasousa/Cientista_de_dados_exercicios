{
 "cells": [
  {
   "cell_type": "markdown",
   "metadata": {},
   "source": [
    "Tarefa - Módulo 4"
   ]
  },
  {
   "cell_type": "code",
   "execution_count": 2,
   "metadata": {},
   "outputs": [],
   "source": [
    "import sqlite3"
   ]
  },
  {
   "cell_type": "code",
   "execution_count": 3,
   "metadata": {},
   "outputs": [
    {
     "name": "stdout",
     "output_type": "stream",
     "text": [
      "<sqlite3.Connection object at 0x00000158858458A0>\n"
     ]
    }
   ],
   "source": [
    "conexao = sqlite3.connect(\"banco_de_dados.db\")\n",
    "print(conexao)"
   ]
  },
  {
   "cell_type": "code",
   "execution_count": 4,
   "metadata": {},
   "outputs": [],
   "source": [
    "cursor = conexao.cursor()"
   ]
  },
  {
   "cell_type": "markdown",
   "metadata": {},
   "source": [
    "Exercício 1"
   ]
  },
  {
   "cell_type": "code",
   "execution_count": 4,
   "metadata": {},
   "outputs": [
    {
     "data": {
      "text/plain": [
       "<sqlite3.Cursor at 0x21293ed4e30>"
      ]
     },
     "execution_count": 4,
     "metadata": {},
     "output_type": "execute_result"
    }
   ],
   "source": [
    "cursor.execute (\"CREATE TABLE dados_cadastrais (id integer, nome text, sobrenome text, data_nascimento text, cpf integer, endereco text)\")"
   ]
  },
  {
   "cell_type": "code",
   "execution_count": 5,
   "metadata": {},
   "outputs": [],
   "source": [
    "cursor.execute(\"INSERT INTO dados_cadastrais VALUES (1, 'Maria', 'Silva', '', 11111211313, 'Rua 1 - SP')\")\n",
    "cursor.execute(\"INSERT INTO dados_cadastrais VALUES (2, 'João', 'Silva', '', 11111211889,  'Rua 2 - SP')\")\n",
    "cursor.execute(\"INSERT INTO dados_cadastrais VALUES (3, 'Pedro', 'Pereira', '', 11111211786, 'Rua 8 - SP')\")\n",
    "cursor.execute(\"INSERT INTO dados_cadastrais VALUES (4, 'Paulo', 'Ribeiro', '', 11111211123, 'Rua 9 - SP')\")\n",
    "conexao.commit()"
   ]
  },
  {
   "cell_type": "code",
   "execution_count": 6,
   "metadata": {},
   "outputs": [
    {
     "data": {
      "text/plain": [
       "[(1, 'Maria', 'Silva', '', 11111211313, 'Rua 1 - SP'),\n",
       " (2, 'João', 'Silva', '', 11111211889, 'Rua 2 - SP'),\n",
       " (3, 'Pedro', 'Pereira', '', 11111211786, 'Rua 8 - SP'),\n",
       " (4, 'Paulo', 'Ribeiro', '', 11111211123, 'Rua 9 - SP')]"
      ]
     },
     "execution_count": 6,
     "metadata": {},
     "output_type": "execute_result"
    }
   ],
   "source": [
    "cursor.execute(\"SELECT * FROM dados_cadastrais\")\n",
    "cursor.fetchall()"
   ]
  },
  {
   "cell_type": "code",
   "execution_count": 7,
   "metadata": {},
   "outputs": [
    {
     "data": {
      "text/plain": [
       "<sqlite3.Cursor at 0x21293ed4e30>"
      ]
     },
     "execution_count": 7,
     "metadata": {},
     "output_type": "execute_result"
    }
   ],
   "source": [
    "cursor.execute(\"CREATE TABLE dados_profissionais (id text, graduação text, cargo text, salario integer, tempo_casa integer)\")\n"
   ]
  },
  {
   "cell_type": "code",
   "execution_count": 8,
   "metadata": {},
   "outputs": [],
   "source": [
    "cursor.execute(\"INSERT INTO dados_profissionais VALUES (1, 'matemática', 'professor', 3500.89, 3)\")\n",
    "cursor.execute(\"INSERT INTO dados_profissionais VALUES (2, 'geografia', 'orientador', 2850.80, 1)\")\n",
    "cursor.execute(\"INSERT INTO dados_profissionais VALUES (3, 'história', 'orientador', 3200.45, 1)\")\n",
    "cursor.execute(\"INSERT INTO dados_profissionais VALUES (4, 'física', 'professor', 1890.33, 2)\")\n",
    "conexao.commit()\n"
   ]
  },
  {
   "cell_type": "code",
   "execution_count": 9,
   "metadata": {},
   "outputs": [
    {
     "data": {
      "text/plain": [
       "[('1', 'matemática', 'professor', 3500.89, 3),\n",
       " ('2', 'geografia', 'orientador', 2850.8, 1),\n",
       " ('3', 'história', 'orientador', 3200.45, 1),\n",
       " ('4', 'física', 'professor', 1890.33, 2)]"
      ]
     },
     "execution_count": 9,
     "metadata": {},
     "output_type": "execute_result"
    }
   ],
   "source": [
    "cursor.execute(\"SELECT * FROM dados_profissionais\")\n",
    "cursor.fetchall()"
   ]
  },
  {
   "cell_type": "markdown",
   "metadata": {},
   "source": [
    "Exercício 2"
   ]
  },
  {
   "cell_type": "code",
   "execution_count": 10,
   "metadata": {},
   "outputs": [
    {
     "data": {
      "text/plain": [
       "[('1', 'matemática', 'professor', 3500.89, 3),\n",
       " ('4', 'física', 'professor', 1890.33, 2),\n",
       " ('2', 'geografia', 'orientador', 2850.8, 1),\n",
       " ('3', 'história', 'orientador', 3200.45, 1)]"
      ]
     },
     "execution_count": 10,
     "metadata": {},
     "output_type": "execute_result"
    }
   ],
   "source": [
    "cursor.execute (\"SELECT * FROM dados_profissionais ORDER BY tempo_casa DESC \")\n",
    "cursor.fetchall()"
   ]
  },
  {
   "cell_type": "markdown",
   "metadata": {},
   "source": [
    "Exercício 3"
   ]
  },
  {
   "cell_type": "code",
   "execution_count": 12,
   "metadata": {},
   "outputs": [
    {
     "data": {
      "text/plain": [
       "[(4,)]"
      ]
     },
     "execution_count": 12,
     "metadata": {},
     "output_type": "execute_result"
    }
   ],
   "source": [
    "cursor.execute(\"SELECT COUNT (id)  FROM dados_profissionais\")\n",
    "cursor.fetchall()"
   ]
  },
  {
   "cell_type": "markdown",
   "metadata": {},
   "source": [
    "Exercício 4"
   ]
  },
  {
   "cell_type": "code",
   "execution_count": 5,
   "metadata": {},
   "outputs": [
    {
     "data": {
      "text/plain": [
       "[('João', 'Silva'), ('Maria', 'Silva')]"
      ]
     },
     "execution_count": 5,
     "metadata": {},
     "output_type": "execute_result"
    }
   ],
   "source": [
    "cursor.execute(\"SELECT nome, sobrenome FROM dados_cadastrais WHERE sobrenome == 'Silva' ORDER BY nome ASC\")\n",
    "cursor.fetchall()"
   ]
  },
  {
   "cell_type": "markdown",
   "metadata": {},
   "source": [
    "Exercício 5"
   ]
  },
  {
   "cell_type": "code",
   "execution_count": 14,
   "metadata": {},
   "outputs": [
    {
     "data": {
      "text/plain": [
       "[(6051.25, 'orientador'), (5391.219999999999, 'professor')]"
      ]
     },
     "execution_count": 14,
     "metadata": {},
     "output_type": "execute_result"
    }
   ],
   "source": [
    "cursor.execute(\"SELECT SUM (salario), cargo FROM dados_profissionais GROUP BY cargo\")\n",
    "cursor.fetchall()"
   ]
  }
 ],
 "metadata": {
  "kernelspec": {
   "display_name": "Python 3",
   "language": "python",
   "name": "python3"
  },
  "language_info": {
   "codemirror_mode": {
    "name": "ipython",
    "version": 3
   },
   "file_extension": ".py",
   "mimetype": "text/x-python",
   "name": "python",
   "nbconvert_exporter": "python",
   "pygments_lexer": "ipython3",
   "version": "3.8.5"
  }
 },
 "nbformat": 4,
 "nbformat_minor": 4
}
