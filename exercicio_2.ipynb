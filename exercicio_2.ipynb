{
 "cells": [
  {
   "cell_type": "code",
   "execution_count": 1,
   "metadata": {},
   "outputs": [],
   "source": [
    "nome_funcionarios = [\"Caio\", \"Inês\", \"Ana\", \"Maria\", \"Bruno\", \"Maria\", \"Ludimilla\", \"Cristiano\", \" Larissa\", \"Carlos\", \"Bruno\", \"Danilo\"]"
   ]
  },
  {
   "cell_type": "code",
   "execution_count": 2,
   "metadata": {},
   "outputs": [
    {
     "data": {
      "text/plain": [
       "['Caio',\n",
       " 'Inês',\n",
       " 'Ana',\n",
       " 'Maria',\n",
       " 'Bruno',\n",
       " 'Maria',\n",
       " 'Ludimilla',\n",
       " 'Cristiano',\n",
       " ' Larissa',\n",
       " 'Carlos',\n",
       " 'Bruno',\n",
       " 'Danilo']"
      ]
     },
     "execution_count": 2,
     "metadata": {},
     "output_type": "execute_result"
    }
   ],
   "source": [
    "nome_funcionarios"
   ]
  },
  {
   "cell_type": "code",
   "execution_count": 3,
   "metadata": {},
   "outputs": [
    {
     "data": {
      "text/plain": [
       "12"
      ]
     },
     "execution_count": 3,
     "metadata": {},
     "output_type": "execute_result"
    }
   ],
   "source": [
    "len(nome_funcionarios)"
   ]
  },
  {
   "cell_type": "code",
   "execution_count": 4,
   "metadata": {},
   "outputs": [
    {
     "name": "stdout",
     "output_type": "stream",
     "text": [
      "{'Bruno', 'Carlos', 'Caio', 'Ana', 'Cristiano', ' Larissa', 'Danilo', 'Inês', 'Maria', 'Ludimilla'}\n"
     ]
    }
   ],
   "source": [
    "print(set(nome_funcionarios))"
   ]
  },
  {
   "cell_type": "code",
   "execution_count": 5,
   "metadata": {},
   "outputs": [
    {
     "name": "stdout",
     "output_type": "stream",
     "text": [
      "10\n"
     ]
    }
   ],
   "source": [
    "print(len(set(nome_funcionarios)))"
   ]
  },
  {
   "cell_type": "code",
   "execution_count": 6,
   "metadata": {},
   "outputs": [
    {
     "name": "stdout",
     "output_type": "stream",
     "text": [
      "12\n"
     ]
    }
   ],
   "source": [
    "print(len(nome_funcionarios))"
   ]
  }
 ],
 "metadata": {
  "kernelspec": {
   "display_name": "Python 3",
   "language": "python",
   "name": "python3"
  },
  "language_info": {
   "codemirror_mode": {
    "name": "ipython",
    "version": 3
   },
   "file_extension": ".py",
   "mimetype": "text/x-python",
   "name": "python",
   "nbconvert_exporter": "python",
   "pygments_lexer": "ipython3",
   "version": "3.8.5"
  }
 },
 "nbformat": 4,
 "nbformat_minor": 4
}
